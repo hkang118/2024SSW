{
  "cells": [
    {
      "cell_type": "markdown",
      "metadata": {
        "id": "view-in-github",
        "colab_type": "text"
      },
      "source": [
        "<a href=\"https://colab.research.google.com/github/hxk271/2023SSW/blob/main/W02A.ipynb\" target=\"_parent\"><img src=\"https://colab.research.google.com/assets/colab-badge.svg\" alt=\"Open In Colab\"/></a>"
      ]
    },
    {
      "cell_type": "markdown",
      "id": "0ca36135",
      "metadata": {
        "id": "0ca36135"
      },
      "source": [
        "# 출력과 입력 그리고 변수\n",
        "\n",
        "> 1. print( ) 함수로 출력하기\n",
        "<br>\n",
        "2. 변수\n",
        "<br>\n",
        "3. input( ) 함수로 문자열 값 입력받기"
      ]
    },
    {
      "cell_type": "code",
      "execution_count": null,
      "id": "4fa2de03",
      "metadata": {
        "id": "4fa2de03"
      },
      "outputs": [],
      "source": [
        "print(34759**24341)"
      ]
    },
    {
      "cell_type": "code",
      "execution_count": null,
      "id": "53afc7a5",
      "metadata": {
        "id": "53afc7a5"
      },
      "outputs": [],
      "source": [
        "print('hello world')"
      ]
    },
    {
      "cell_type": "code",
      "execution_count": null,
      "id": "ec2e7c13",
      "metadata": {
        "id": "ec2e7c13"
      },
      "outputs": [],
      "source": [
        "name = '파이썬'\n",
        "print(name)"
      ]
    },
    {
      "cell_type": "code",
      "execution_count": null,
      "id": "28a7c2db",
      "metadata": {
        "id": "28a7c2db"
      },
      "outputs": [],
      "source": [
        "a = 1024 # 변수의 이름은 여러분이 지정하면 됩니다.\n",
        "print(a)"
      ]
    },
    {
      "cell_type": "code",
      "execution_count": null,
      "id": "4342c76c",
      "metadata": {
        "id": "4342c76c"
      },
      "outputs": [],
      "source": [
        "# name 변수의 값을 ‘파이썬’ 대신 다른 값으로 바꿔보세요!\n",
        "name = '파이썬'\n",
        "print(name+'님! 안녕하세요!')"
      ]
    },
    {
      "cell_type": "code",
      "execution_count": null,
      "id": "be0fbde1",
      "metadata": {
        "id": "be0fbde1"
      },
      "outputs": [],
      "source": [
        "name = '김현우' # 주석은 코드 오른쪽에 쓸 수도 있습니다.\n",
        "print(2020, name, '화이팅!!')"
      ]
    },
    {
      "cell_type": "code",
      "execution_count": null,
      "id": "8d212794",
      "metadata": {
        "id": "8d212794"
      },
      "outputs": [],
      "source": [
        "name = input()\n",
        "print(name+'님! 안녕하세요!')"
      ]
    },
    {
      "cell_type": "code",
      "execution_count": null,
      "id": "c51a9cb8",
      "metadata": {
        "id": "c51a9cb8"
      },
      "outputs": [],
      "source": [
        "name = input('이름을 입력해주세요 : ')\n",
        "print(name+'님! 안녕하세요!')"
      ]
    },
    {
      "cell_type": "code",
      "execution_count": null,
      "id": "4f10b9ed",
      "metadata": {
        "id": "4f10b9ed"
      },
      "outputs": [],
      "source": [
        "age = input('나이를 입력해주세요! : ')\n",
        "print(age-4)"
      ]
    },
    {
      "cell_type": "code",
      "execution_count": null,
      "id": "3d3b9c70",
      "metadata": {
        "id": "3d3b9c70"
      },
      "outputs": [],
      "source": [
        "age = input('나이를 입력해주세요! : ')\n",
        "print(int(age) - 4)"
      ]
    },
    {
      "cell_type": "code",
      "execution_count": null,
      "id": "af841775",
      "metadata": {
        "id": "af841775"
      },
      "outputs": [],
      "source": [
        "name = input('이름을 입력해주세요 : ')\n",
        "age = int(input('나이를 입력해주세요 : '))\n",
        "print('안녕하세요!', name+'님! 저는 처음에 '+str(age - 4)+'살인 줄 알았어요!!')"
      ]
    },
    {
      "cell_type": "markdown",
      "id": "7efda3d7",
      "metadata": {
        "id": "7efda3d7"
      },
      "source": [
        "# 연산자 사용하기\n",
        "\n",
        "> 1. 산술 연산자(arithmetic operator)\n",
        "<br>\n",
        "2. 비교 연산자(comparison operator)\n",
        "<br>\n",
        "3. 논리 연산자(logical operator)"
      ]
    },
    {
      "cell_type": "code",
      "execution_count": null,
      "id": "56ae2bac",
      "metadata": {
        "scrolled": true,
        "id": "56ae2bac"
      },
      "outputs": [],
      "source": [
        "# 다양한 값을 넣어보며 연습해보세요.\n",
        "print(3 * 10) # * : 곱셈 연산자\n",
        "print(3 ** 10) # ** : 거듭 제곱 연산자\n",
        "print(3 % 10) # % : 나머지 연산자\n",
        "print(3 / 2) # / : 실수 나눗셈\n",
        "print(3 // 2) # // : 정수 나눗셈"
      ]
    },
    {
      "cell_type": "code",
      "execution_count": null,
      "id": "8ecb9a56",
      "metadata": {
        "id": "8ecb9a56"
      },
      "outputs": [],
      "source": [
        "# 다양한 값을 넣어보며 연습해보세요.\n",
        "print(10 >= 3)\n",
        "print(10 <= 3)\n",
        "print(10 == 3) # = = : 같다\n",
        "print(10 != 3) # != : 같지 않다\n",
        "print(3 % 2 == 1)"
      ]
    },
    {
      "cell_type": "code",
      "execution_count": null,
      "id": "c97d5f69",
      "metadata": {
        "id": "c97d5f69"
      },
      "outputs": [],
      "source": [
        "# 다양한 값을 넣어보며 연습해보세요.\n",
        "print(1 == 1 and 2 != 1) # True and True\n",
        "print(10 % 2 != 0 and 1 + 1 > 0) # False and True"
      ]
    },
    {
      "cell_type": "code",
      "execution_count": null,
      "id": "0b7feb10",
      "metadata": {
        "id": "0b7feb10"
      },
      "outputs": [],
      "source": [
        "# 다양한 값을 넣어보며 연습해보세요.\n",
        "print(10 < 5 or 10 == 5) # False or False\n",
        "print(10 % 2 != 0 or 1 + 1 > 0) # False or True"
      ]
    },
    {
      "cell_type": "code",
      "execution_count": null,
      "id": "99e09b9a",
      "metadata": {
        "scrolled": true,
        "id": "99e09b9a"
      },
      "outputs": [],
      "source": [
        "# 다양한 값을 넣어보며 연습해보세요.\n",
        "print(not 10 > 5) # not True\n",
        "print(not 10 == 5) # not False\n",
        "print(not 0) # 0은 False에 해당\n",
        "print(not 10) # 0을 제외한 숫자도 True에 해당"
      ]
    },
    {
      "cell_type": "markdown",
      "id": "e6ae48bd",
      "metadata": {
        "id": "e6ae48bd"
      },
      "source": [
        "# 함수 불러오기\n",
        "\n",
        "> print, input, int, str 등 지금까지 사용했던 함수들은 파이썬에서 항상 사용할 수 있도록 제공하는 *내장함수(built-in functions)*이다<br> <br>\n",
        "그런데 내장 함수 중에는 제곱근(sqare root)을 구할 수 있는 함수도 없고, 랜덤한 숫자를 만들어낼 수 있는 랜덤 함수도 없다. 그렇지만 이런 함수들은 별도로 불러서 사용할 수 있다. 내장 함수 외의 함수들을 불러올 때는 다음과 같이 import라는 명령을 사용한다.\n",
        "<br> <br>\n",
        "잘 모를 때는 챗GPT나 구글에 물어보자."
      ]
    },
    {
      "cell_type": "code",
      "execution_count": null,
      "id": "0926ffd0",
      "metadata": {
        "id": "0926ffd0"
      },
      "outputs": [],
      "source": [
        "# random 숫자의 범위를 바꿔보세요.\n",
        "import random\n",
        "dice = random.randint(1,6)\n",
        "print(dice)"
      ]
    },
    {
      "cell_type": "code",
      "execution_count": null,
      "id": "c4cfe359",
      "metadata": {
        "scrolled": true,
        "id": "c4cfe359"
      },
      "outputs": [],
      "source": [
        "import math\n",
        "print(math.sqrt(2))"
      ]
    },
    {
      "cell_type": "markdown",
      "id": "7fea6241",
      "metadata": {
        "id": "7fea6241"
      },
      "source": [
        "# 반복과 선택\n",
        "\n",
        "> 1. for 반복문\n",
        "<br>\n",
        "2. if 조건문"
      ]
    },
    {
      "cell_type": "code",
      "execution_count": null,
      "id": "692f7874",
      "metadata": {
        "id": "692f7874"
      },
      "outputs": [],
      "source": [
        "# name 변수의 값을 바꿔보세요.\n",
        "name = '파이썬'\n",
        "for i in name:\n",
        "    print(i)"
      ]
    },
    {
      "cell_type": "code",
      "execution_count": null,
      "id": "ba865ce3",
      "metadata": {
        "id": "ba865ce3"
      },
      "outputs": [],
      "source": [
        "names = ['쵸파','루피','상디','조로']\n",
        "for name in names:\n",
        "    print(name)"
      ]
    },
    {
      "cell_type": "code",
      "execution_count": null,
      "id": "f7fa3cb1",
      "metadata": {
        "id": "f7fa3cb1"
      },
      "outputs": [],
      "source": [
        "# 다음 결과를 확인한 후, i ** 2 대신 다른 식을 넣어 동작을 확인하세요!\n",
        "for i in [0,1,2,3]:\n",
        "    print(i ** 2)"
      ]
    },
    {
      "cell_type": "code",
      "execution_count": null,
      "id": "8cdab3ad",
      "metadata": {
        "id": "8cdab3ad"
      },
      "outputs": [],
      "source": [
        "#range(100) : 0 이상 100 미만(0, 1, 2, ..., 98, 99)의 범위를 갖는 정수\n",
        "for i in range(100):\n",
        "    print(i ** 2)"
      ]
    },
    {
      "cell_type": "code",
      "execution_count": null,
      "id": "49c9c859",
      "metadata": {
        "id": "49c9c859"
      },
      "outputs": [],
      "source": [
        "# 0부터 99까지의 정수 100개 생성. 즉, 100번 반복\n",
        "for i in range(100):\n",
        "    print('나는 파이썬 왕이 될 사람이다!!')"
      ]
    },
    {
      "cell_type": "code",
      "execution_count": null,
      "id": "21ae6aac",
      "metadata": {
        "id": "21ae6aac"
      },
      "outputs": [],
      "source": [
        "if 10 > 0:\n",
        "    print('안녕하세요?')"
      ]
    },
    {
      "cell_type": "code",
      "execution_count": null,
      "id": "e8eb5307",
      "metadata": {
        "id": "e8eb5307"
      },
      "outputs": [],
      "source": [
        "if 10 != 0 and 5 % 2 == 1:\n",
        "    print('안녕하세요?')"
      ]
    },
    {
      "cell_type": "code",
      "execution_count": null,
      "id": "b1679dd3",
      "metadata": {
        "id": "b1679dd3"
      },
      "outputs": [],
      "source": [
        "passwd = int(input('비밀번호 4자리를 입력하세요 : '))\n",
        "if passwd == 1531:\n",
        "    print('비밀번호가 일치합니다.')"
      ]
    },
    {
      "cell_type": "code",
      "execution_count": null,
      "id": "5db98fda",
      "metadata": {
        "id": "5db98fda"
      },
      "outputs": [],
      "source": [
        "for i in range(10000) :\n",
        "    if i == 1531: # 1단계 들여쓰기\n",
        "        print('비밀번호가 일치합니다.') # 2단계 들여쓰기"
      ]
    },
    {
      "cell_type": "code",
      "execution_count": null,
      "id": "ba571b65",
      "metadata": {
        "id": "ba571b65"
      },
      "outputs": [],
      "source": [
        "passwd = int(input('비밀번호 4자리를 입력하세요 : '))\n",
        "if passwd == 1531:\n",
        "    print('비밀번호가 일치합니다.')\n",
        "else:\n",
        "    print('비밀번호가 일치하지 않습니다')"
      ]
    },
    {
      "cell_type": "code",
      "execution_count": null,
      "id": "54fb81ac",
      "metadata": {
        "id": "54fb81ac"
      },
      "outputs": [],
      "source": [
        "print('[ 소름끼치도록 놀라운 심리테스트 ]')\n",
        "menu = input('당신이 좋아하는 음식을 입력해주세요 : ')\n",
        "\n",
        "if menu == '짜장면':\n",
        "    print('당신은 짜장면을 좋아하는 사람입니다.')\n",
        "\n",
        "elif menu == '아이스크림':\n",
        "    print('당신은 아이스크림을 좋아하는 사람입니다.')\n",
        "\n",
        "elif menu == '사탕':\n",
        "    print('당신은 사탕을 좋아하는 사람입니다.')\n",
        "\n",
        "else:\n",
        "    print('당신은 짜장면과 아이스크림과 사탕을 좋아하지 않는 사람입니다.')"
      ]
    },
    {
      "cell_type": "markdown",
      "id": "67cec2ae",
      "metadata": {
        "id": "67cec2ae"
      },
      "source": [
        "# 순서 있는 저장 공간 리스트\n",
        "\n",
        "> 1. 리스트에 저장된 위치(index)로 값에 접근하기(indexing)\n",
        "<br>\n",
        "2. 리스트에 저장된 위치로 데이터의 일부 자르기(slicing)\n",
        "<br>\n",
        "3. 리스트에 값 추가하기"
      ]
    },
    {
      "cell_type": "code",
      "execution_count": null,
      "id": "923fb7d2",
      "metadata": {
        "id": "923fb7d2"
      },
      "outputs": [],
      "source": [
        "for i in [0,1,2,3]:\n",
        "    print(i ** 2)"
      ]
    },
    {
      "cell_type": "code",
      "execution_count": null,
      "id": "b4c66ea7",
      "metadata": {
        "id": "b4c66ea7"
      },
      "outputs": [],
      "source": [
        "names = ['쵸파','루피','상디','조로']\n",
        "for name in names:\n",
        "    print(name)"
      ]
    },
    {
      "cell_type": "code",
      "execution_count": null,
      "id": "8af61086",
      "metadata": {
        "id": "8af61086"
      },
      "outputs": [],
      "source": [
        "names = ['쵸파','루피','상디','조로']\n",
        "print(names[1])"
      ]
    },
    {
      "cell_type": "code",
      "execution_count": null,
      "id": "7b55a808",
      "metadata": {
        "id": "7b55a808"
      },
      "outputs": [],
      "source": [
        "names = ['쵸파','루피','상디','조로']\n",
        "print(names[0])\n",
        "print(names[1])\n",
        "print(names[2])\n",
        "print(names[3])"
      ]
    },
    {
      "cell_type": "code",
      "execution_count": null,
      "id": "92d62e36",
      "metadata": {
        "id": "92d62e36"
      },
      "outputs": [],
      "source": [
        "names = ['쵸파','루피','상디','조로']\n",
        "print(names[-1]) # 인덱스 –1 : 뒤에서 첫 번째 데이터에 접근"
      ]
    },
    {
      "cell_type": "code",
      "execution_count": null,
      "id": "91d00fb0",
      "metadata": {
        "id": "91d00fb0"
      },
      "outputs": [],
      "source": [
        "names = ['쵸파','루피','상디','조로']\n",
        "print(names[0:2])\n",
        "print(names[1:3])\n",
        "print(names[1:])\n",
        "print(names[:])"
      ]
    },
    {
      "cell_type": "code",
      "execution_count": null,
      "id": "2bb4b487",
      "metadata": {
        "id": "2bb4b487"
      },
      "outputs": [],
      "source": [
        "names = ['쵸파','루피','상디','조로']\n",
        "names.append('나미') # 리스트에 값 추가하기\n",
        "print(names)"
      ]
    },
    {
      "cell_type": "code",
      "execution_count": null,
      "id": "51aeaea8",
      "metadata": {
        "id": "51aeaea8"
      },
      "outputs": [],
      "source": [
        "print(len(names)) # 리스트 길이 출력하기\n",
        "print(len('data analysis for everyone')) # 문자열 길이 출력하기"
      ]
    },
    {
      "cell_type": "code",
      "execution_count": null,
      "id": "b7750163",
      "metadata": {
        "id": "b7750163"
      },
      "outputs": [],
      "source": [
        "names = ['쵸파', '루피', '상디', '조로']\n",
        "names.append('해적왕')\n",
        "for name in names:\n",
        "    if len(name) > 2:\n",
        "        print(name,'왔나요~?')"
      ]
    }
  ],
  "metadata": {
    "kernelspec": {
      "display_name": "Python 3 (ipykernel)",
      "language": "python",
      "name": "python3"
    },
    "language_info": {
      "codemirror_mode": {
        "name": "ipython",
        "version": 3
      },
      "file_extension": ".py",
      "mimetype": "text/x-python",
      "name": "python",
      "nbconvert_exporter": "python",
      "pygments_lexer": "ipython3",
      "version": "3.9.7"
    },
    "colab": {
      "provenance": [],
      "include_colab_link": true
    }
  },
  "nbformat": 4,
  "nbformat_minor": 5
}